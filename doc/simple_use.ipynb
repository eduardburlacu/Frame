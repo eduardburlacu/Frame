{
 "cells": [
  {
   "cell_type": "markdown",
   "source": [
    "## Installing the provided library"
   ],
   "metadata": {
    "collapsed": false
   }
  },
  {
   "cell_type": "code",
   "execution_count": 1,
   "outputs": [
    {
     "name": "stdout",
     "output_type": "stream",
     "text": [
      "/bin/bash: warning: setlocale: LC_ALL: cannot change locale (en_US.UTF-8)\r\n",
      "Processing ./QPandas-0.20-py3-none-any.whl\r\n",
      "QPandas is already installed with the same version as the provided wheel. Use --force-reinstall to force an installation of the wheel.\r\n"
     ]
    }
   ],
   "source": [
    "! cd ../dist/ && pip3 install QPandas-0.20-py3-none-any.whl && cd ../doc/"
   ],
   "metadata": {
    "collapsed": false,
    "ExecuteTime": {
     "end_time": "2023-12-30T11:23:24.094312500Z",
     "start_time": "2023-12-30T11:23:22.754084200Z"
    }
   }
  },
  {
   "cell_type": "code",
   "execution_count": 2,
   "outputs": [],
   "source": [
    "from QPandas.qframe import QFrame, QSeries"
   ],
   "metadata": {
    "collapsed": false,
    "ExecuteTime": {
     "end_time": "2023-12-30T11:23:24.124522100Z",
     "start_time": "2023-12-30T11:23:24.111028400Z"
    }
   }
  },
  {
   "cell_type": "markdown",
   "source": [
    "## Series\n",
    "We will provide some simple use cases that reflect the required functionality asked in doc. The API is similar to the Pandas pd.Series(see https://pandas.pydata.org/docs/reference/api/pandas.Series.html). In the next cells we will show the following:\n",
    "- Creating a series\n",
    "- Accessing attributes, entries and filtering based on conditions\n",
    "- Combining the series in a frame"
   ],
   "metadata": {
    "collapsed": false
   }
  },
  {
   "cell_type": "code",
   "execution_count": 5,
   "outputs": [
    {
     "name": "stdout",
     "output_type": "stream",
     "text": [
      "'alltrue'\n",
      "__________________\n",
      "|  0   |  True  |\n",
      "__________________\n",
      "|  1   |  False  |\n",
      "__________________\n",
      "|  2   |  True  |\n",
      "__________________\n",
      "|  3   |  False  |\n",
      "__________________\n",
      "dtype: <class 'bool'>\n",
      "'current_price'\n",
      "__________________\n",
      "|  0   |  0.0  |\n",
      "__________________\n",
      "|  1   |  0.5  |\n",
      "__________________\n",
      "|  2   |  2.0  |\n",
      "__________________\n",
      "|  3   |  4.5  |\n",
      "__________________\n",
      "dtype: <class 'float'>\n",
      "'current_price[alltrue]'\n",
      "__________________\n",
      "|  0   |  0.0  |\n",
      "__________________\n",
      "|  2   |  2.0  |\n",
      "__________________\n",
      "dtype: <class 'float'>\n",
      "\"alltrue[alltrue == <class 'bool'>]\"\n",
      "__________________\n",
      "|  0   |  True  |\n",
      "__________________\n",
      "|  2   |  True  |\n",
      "__________________\n",
      "dtype: <class 'bool'>\n"
     ]
    }
   ],
   "source": [
    "#Setup a common idx for the next series\n",
    "idx = list(range(4))\n",
    "#Create series using list (comprehension)\n",
    "t = QSeries(data= [True  if i%2==0 else False for i in range(len(idx))], index=idx,dtype=bool,name=\"allbool\")\n",
    "price = QSeries([i**2/2 for i in range(4)],idx,float,name=\"current_price\")\n",
    "#Series representation\n",
    "print(t)\n",
    "print(price)\n",
    "print(price[t])\n",
    "print(t[t==True])"
   ],
   "metadata": {
    "collapsed": false,
    "ExecuteTime": {
     "end_time": "2023-12-30T11:23:39.324847200Z",
     "start_time": "2023-12-30T11:23:39.262167600Z"
    }
   }
  },
  {
   "cell_type": "markdown",
   "source": [
    "Similar to pandas, we can create queries based on conditions"
   ],
   "metadata": {
    "collapsed": false
   }
  },
  {
   "cell_type": "code",
   "execution_count": 15,
   "outputs": [
    {
     "name": "stdout",
     "output_type": "stream",
     "text": [
      "4\n",
      "[0, 1, 2, 3] Old price <class 'float'>\n",
      "'Old price'\n",
      "__________________\n",
      "|  0   |  0.0  |\n",
      "__________________\n",
      "|  1   |  0.5  |\n",
      "__________________\n",
      "|  2   |  2.0  |\n",
      "__________________\n",
      "|  3   |  4.5  |\n",
      "__________________\n",
      "dtype: <class 'float'>\n",
      "'alltrue | alltrue'\n",
      "__________________\n",
      "|  0   |  None  |\n",
      "__________________\n",
      "|  1   |  False  |\n",
      "__________________\n",
      "|  2   |  None  |\n",
      "__________________\n",
      "|  3   |  False  |\n",
      "__________________\n",
      "dtype: <class 'bool'>\n"
     ]
    }
   ],
   "source": [
    "#Useful Attributes/ Methods\n",
    "print(len(price))\n",
    "print(price.index,price.name,price.dtype)\n",
    "price.set_name(\"Old price\")\n",
    "print(price)"
   ],
   "metadata": {
    "collapsed": false,
    "ExecuteTime": {
     "end_time": "2023-12-30T11:33:21.969621700Z",
     "start_time": "2023-12-30T11:33:21.922429300Z"
    }
   }
  },
  {
   "cell_type": "code",
   "execution_count": 17,
   "outputs": [
    {
     "name": "stdout",
     "output_type": "stream",
     "text": [
      "'alltrue | alltrue'\n",
      "__________________\n",
      "|  0   |  None  |\n",
      "__________________\n",
      "|  1   |  False  |\n",
      "__________________\n",
      "|  2   |  None  |\n",
      "__________________\n",
      "|  3   |  False  |\n",
      "__________________\n",
      "dtype: <class 'bool'>\n",
      "'alltrue | alltrue'\n",
      "__________________\n",
      "|  0   |  True  |\n",
      "__________________\n",
      "|  1   |  False  |\n",
      "__________________\n",
      "|  2   |  True  |\n",
      "__________________\n",
      "|  3   |  False  |\n",
      "__________________\n",
      "dtype: <class 'bool'>\n"
     ]
    }
   ],
   "source": [
    "# This shows how one can alter the behaviour of None interaction\n",
    "# For details, it is worth checking the implementation of operations\n",
    "t1 = QSeries(data= [True  if i%2==0 else False for i in range(len(idx))], index=idx,dtype=bool,name=\"alltrue\")\n",
    "t2 = QSeries(data= [None  if i%2==0 else False for i in range(len(idx))], index=idx,dtype=bool,name=\"alltrue\")\n",
    "print(t1|t2)\n",
    "QSeries.allow_none_equality = True\n",
    "print(t1|t2)"
   ],
   "metadata": {
    "collapsed": false,
    "ExecuteTime": {
     "end_time": "2023-12-30T11:35:20.338909300Z",
     "start_time": "2023-12-30T11:35:20.276363700Z"
    }
   }
  },
  {
   "cell_type": "code",
   "execution_count": 18,
   "outputs": [
    {
     "data": {
      "text/plain": "\"Old price[Old price > <class 'float'>]\"\n__________________\n|  2   |  2.0  |\n__________________\n|  3   |  4.5  |\n__________________\ndtype: <class 'float'>"
     },
     "execution_count": 18,
     "metadata": {},
     "output_type": "execute_result"
    }
   ],
   "source": [
    "#Dtype. Running any operation between Series of identical dtype is more or less similar to pandas(though it integrates None entries in that dtype). However, any operation with different dtypes will cause errors. Warnings are generally raised when certain arguments are missing and the indexing/column naming was inferred from data\n",
    "\n",
    "price[price>1.0] # this works fine\n",
    "# price[price>1] # this will raise an error. Uncomment to check."
   ],
   "metadata": {
    "collapsed": false,
    "ExecuteTime": {
     "end_time": "2023-12-30T11:39:25.428084900Z",
     "start_time": "2023-12-30T11:39:25.382185100Z"
    }
   }
  },
  {
   "cell_type": "markdown",
   "source": [
    "![](table.png \"Alt text\" width=400 height=300)\n"
   ],
   "metadata": {
    "collapsed": false
   }
  },
  {
   "cell_type": "code",
   "execution_count": 19,
   "outputs": [],
   "source": [
    "#Let's create"
   ],
   "metadata": {
    "collapsed": false,
    "ExecuteTime": {
     "end_time": "2023-12-30T11:39:31.790780Z",
     "start_time": "2023-12-30T11:39:31.775171700Z"
    }
   }
  }
 ],
 "metadata": {
  "kernelspec": {
   "display_name": "Python 3",
   "language": "python",
   "name": "python3"
  },
  "language_info": {
   "codemirror_mode": {
    "name": "ipython",
    "version": 2
   },
   "file_extension": ".py",
   "mimetype": "text/x-python",
   "name": "python",
   "nbconvert_exporter": "python",
   "pygments_lexer": "ipython2",
   "version": "2.7.6"
  }
 },
 "nbformat": 4,
 "nbformat_minor": 0
}
