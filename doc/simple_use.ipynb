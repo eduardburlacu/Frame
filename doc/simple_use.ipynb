{
 "cells": [
  {
   "cell_type": "markdown",
   "source": [
    "## Installing the provided library"
   ],
   "metadata": {
    "collapsed": false
   }
  },
  {
   "cell_type": "code",
   "execution_count": 1,
   "outputs": [
    {
     "name": "stdout",
     "output_type": "stream",
     "text": [
      "/bin/bash: warning: setlocale: LC_ALL: cannot change locale (en_US.UTF-8)\r\n",
      "Processing ./QPandas-0.20-py3-none-any.whl\r\n",
      "QPandas is already installed with the same version as the provided wheel. Use --force-reinstall to force an installation of the wheel.\r\n"
     ]
    }
   ],
   "source": [
    "! cd ../dist/ && pip3 install QPandas-0.20-py3-none-any.whl && cd ../doc/"
   ],
   "metadata": {
    "collapsed": false,
    "ExecuteTime": {
     "end_time": "2023-12-30T11:23:24.094312500Z",
     "start_time": "2023-12-30T11:23:22.754084200Z"
    }
   }
  },
  {
   "cell_type": "code",
   "execution_count": 2,
   "outputs": [],
   "source": [
    "from QPandas.qframe import QFrame, QSeries"
   ],
   "metadata": {
    "collapsed": false,
    "ExecuteTime": {
     "end_time": "2023-12-30T11:23:24.124522100Z",
     "start_time": "2023-12-30T11:23:24.111028400Z"
    }
   }
  },
  {
   "cell_type": "markdown",
   "source": [
    "## Series\n",
    "We will provide some simple use cases that reflect the required functionality asked in doc. The API is similar to the Pandas pd.Series(see https://pandas.pydata.org/docs/reference/api/pandas.Series.html). In the next cells we will show the following:\n",
    "- Creating a series\n",
    "- Accessing attributes, entries and filtering based on conditions\n",
    "- Combining the series in a frame"
   ],
   "metadata": {
    "collapsed": false
   }
  },
  {
   "cell_type": "code",
   "execution_count": 5,
   "outputs": [
    {
     "name": "stdout",
     "output_type": "stream",
     "text": [
      "'alltrue'\n",
      "__________________\n",
      "|  0   |  True  |\n",
      "__________________\n",
      "|  1   |  False  |\n",
      "__________________\n",
      "|  2   |  True  |\n",
      "__________________\n",
      "|  3   |  False  |\n",
      "__________________\n",
      "dtype: <class 'bool'>\n",
      "'current_price'\n",
      "__________________\n",
      "|  0   |  0.0  |\n",
      "__________________\n",
      "|  1   |  0.5  |\n",
      "__________________\n",
      "|  2   |  2.0  |\n",
      "__________________\n",
      "|  3   |  4.5  |\n",
      "__________________\n",
      "dtype: <class 'float'>\n",
      "'current_price[alltrue]'\n",
      "__________________\n",
      "|  0   |  0.0  |\n",
      "__________________\n",
      "|  2   |  2.0  |\n",
      "__________________\n",
      "dtype: <class 'float'>\n",
      "\"alltrue[alltrue == <class 'bool'>]\"\n",
      "__________________\n",
      "|  0   |  True  |\n",
      "__________________\n",
      "|  2   |  True  |\n",
      "__________________\n",
      "dtype: <class 'bool'>\n"
     ]
    }
   ],
   "source": [
    "#Setup a common idx for the next series\n",
    "idx = list(range(4))\n",
    "#Create series using list (comprehension)\n",
    "t = QSeries(data= [True  if i%2==0 else False for i in range(len(idx))], index=idx,dtype=bool,name=\"allbool\")\n",
    "price = QSeries([i**2/2 for i in range(4)],idx,float,name=\"current_price\")\n",
    "#Series representation\n",
    "print(t)\n",
    "print(price)\n",
    "print(price[t])\n",
    "print(t[t==True])"
   ],
   "metadata": {
    "collapsed": false,
    "ExecuteTime": {
     "end_time": "2023-12-30T11:23:39.324847200Z",
     "start_time": "2023-12-30T11:23:39.262167600Z"
    }
   }
  },
  {
   "cell_type": "markdown",
   "source": [
    "Similar to pandas, we can create queries based on conditions"
   ],
   "metadata": {
    "collapsed": false
   }
  },
  {
   "cell_type": "code",
   "execution_count": 15,
   "outputs": [
    {
     "name": "stdout",
     "output_type": "stream",
     "text": [
      "4\n",
      "[0, 1, 2, 3] Old price <class 'float'>\n",
      "'Old price'\n",
      "__________________\n",
      "|  0   |  0.0  |\n",
      "__________________\n",
      "|  1   |  0.5  |\n",
      "__________________\n",
      "|  2   |  2.0  |\n",
      "__________________\n",
      "|  3   |  4.5  |\n",
      "__________________\n",
      "dtype: <class 'float'>\n",
      "'alltrue | alltrue'\n",
      "__________________\n",
      "|  0   |  None  |\n",
      "__________________\n",
      "|  1   |  False  |\n",
      "__________________\n",
      "|  2   |  None  |\n",
      "__________________\n",
      "|  3   |  False  |\n",
      "__________________\n",
      "dtype: <class 'bool'>\n"
     ]
    }
   ],
   "source": [
    "#Useful Attributes/ Methods\n",
    "print(len(price))\n",
    "print(price.index,price.name,price.dtype)\n",
    "price.set_name(\"Old price\")\n",
    "print(price)"
   ],
   "metadata": {
    "collapsed": false,
    "ExecuteTime": {
     "end_time": "2023-12-30T11:33:21.969621700Z",
     "start_time": "2023-12-30T11:33:21.922429300Z"
    }
   }
  },
  {
   "cell_type": "code",
   "execution_count": 17,
   "outputs": [
    {
     "name": "stdout",
     "output_type": "stream",
     "text": [
      "'alltrue | alltrue'\n",
      "__________________\n",
      "|  0   |  None  |\n",
      "__________________\n",
      "|  1   |  False  |\n",
      "__________________\n",
      "|  2   |  None  |\n",
      "__________________\n",
      "|  3   |  False  |\n",
      "__________________\n",
      "dtype: <class 'bool'>\n",
      "'alltrue | alltrue'\n",
      "__________________\n",
      "|  0   |  True  |\n",
      "__________________\n",
      "|  1   |  False  |\n",
      "__________________\n",
      "|  2   |  True  |\n",
      "__________________\n",
      "|  3   |  False  |\n",
      "__________________\n",
      "dtype: <class 'bool'>\n"
     ]
    }
   ],
   "source": [
    "# This shows how one can alter the behaviour of None interaction\n",
    "# For details, it is worth checking the implementation of operations\n",
    "t1 = QSeries(data= [True  if i%2==0 else False for i in range(len(idx))], index=idx,dtype=bool,name=\"alltrue\")\n",
    "t2 = QSeries(data= [None  if i%2==0 else False for i in range(len(idx))], index=idx,dtype=bool,name=\"alltrue\")\n",
    "print(t1|t2)\n",
    "QSeries.allow_none_equality = True\n",
    "print(t1|t2)"
   ],
   "metadata": {
    "collapsed": false,
    "ExecuteTime": {
     "end_time": "2023-12-30T11:35:20.338909300Z",
     "start_time": "2023-12-30T11:35:20.276363700Z"
    }
   }
  },
  {
   "cell_type": "code",
   "execution_count": 18,
   "outputs": [
    {
     "data": {
      "text/plain": "\"Old price[Old price > <class 'float'>]\"\n__________________\n|  2   |  2.0  |\n__________________\n|  3   |  4.5  |\n__________________\ndtype: <class 'float'>"
     },
     "execution_count": 18,
     "metadata": {},
     "output_type": "execute_result"
    }
   ],
   "source": [
    "#Dtype. Running any operation between Series of identical dtype is more or less similar to pandas(though it integrates None entries in that dtype). However, any operation with different dtypes will cause errors. Warnings are generally raised when certain arguments are missing and the indexing/column naming was inferred from data\n",
    "\n",
    "price[price>1.0] # this works fine\n",
    "# price[price>1] # this will raise an error. Uncomment to check."
   ],
   "metadata": {
    "collapsed": false,
    "ExecuteTime": {
     "end_time": "2023-12-30T11:39:25.428084900Z",
     "start_time": "2023-12-30T11:39:25.382185100Z"
    }
   }
  },
  {
   "cell_type": "markdown",
   "source": [
    "\n",
    "Accessing elements. This is similar to df.iloc[] in pandas. We enter the index COUNT of the entry(not the index value itself). This was my interpretation of the following requirement:\n",
    "\n",
    "**\"overriding the square bracket access operator, which should when given an integer return the individual value at that position\"**\n",
    "\n",
    "This avoids confusions when we filter columns and we might be interested on first n entries, say. More, upcoming methods like df.describe() might not have int indexing, therefore it is safest to use the order indexing(starting at 0)."
   ],
   "metadata": {
    "collapsed": false
   }
  },
  {
   "cell_type": "markdown",
   "source": [
    "## QFrame\n",
    "\n",
    "Let's create the columns of the following table.\n",
    "\n",
    "![Screenshot](table.png)\n"
   ],
   "metadata": {
    "collapsed": false
   }
  },
  {
   "cell_type": "code",
   "execution_count": 22,
   "outputs": [
    {
     "name": "stdout",
     "output_type": "stream",
     "text": [
      "{'SKU': 'SKU'\n",
      "__________________\n",
      "|  0   |  X4E  |\n",
      "__________________\n",
      "|  1   |  T3B  |\n",
      "__________________\n",
      "|  2   |  F8D  |\n",
      "__________________\n",
      "|  3   |  C7X  |\n",
      "__________________\n",
      "dtype: <class 'str'>, 'price': 'price'\n",
      "__________________\n",
      "|  0   |  7.0  |\n",
      "__________________\n",
      "|  1   |  3.5  |\n",
      "__________________\n",
      "|  2   |  8.0  |\n",
      "__________________\n",
      "|  3   |  6.0  |\n",
      "__________________\n",
      "dtype: <class 'float'>, 'sales': 'sales'\n",
      "__________________\n",
      "|  0   |  5  |\n",
      "__________________\n",
      "|  1   |  3  |\n",
      "__________________\n",
      "|  2   |  1  |\n",
      "__________________\n",
      "|  3   |  10  |\n",
      "__________________\n",
      "dtype: <class 'int'>, 'taxed': 'taxed'\n",
      "__________________\n",
      "|  0   |  False  |\n",
      "__________________\n",
      "|  1   |  False  |\n",
      "__________________\n",
      "|  2   |  True  |\n",
      "__________________\n",
      "|  3   |  False  |\n",
      "__________________\n",
      "dtype: <class 'bool'>}\n"
     ]
    }
   ],
   "source": [
    "idx = list(range(4))\n",
    "s = [\n",
    "    QSeries(data=[\"X4E\", \"T3B\", \"F8D\", \"C7X\"], index=idx, dtype=str, name=\"SKU\"),\n",
    "    QSeries(data=[7.0, 3.5, 8.0, 6.0], index=idx, dtype=float, name=\"price\"),\n",
    "    QSeries(data=[5, 3, 1, 10], index=idx, dtype=int, name=\"sales\"),\n",
    "    QSeries(data=[False, False, True, False], index=idx, dtype=bool, name=\"taxed\"),\n",
    "]\n",
    "dict_s = {x.name: x for x in s}\n",
    "print(dict_s)"
   ],
   "metadata": {
    "collapsed": false,
    "ExecuteTime": {
     "end_time": "2023-12-30T11:58:12.749937200Z",
     "start_time": "2023-12-30T11:58:12.687243600Z"
    }
   }
  },
  {
   "cell_type": "markdown",
   "source": [
    "Entering just a dictionary defaults on:\n",
    "    - checking if an index object is provided\n",
    "    - if None is found, it checks if serieses have a common index\n",
    "    - if None works, it will use the general range index\n",
    "    - the column name is taken from the series name\n",
    "\n",
    "Note that warnings are present to make user know of potential overlooking."
   ],
   "metadata": {
    "collapsed": false
   }
  },
  {
   "cell_type": "code",
   "execution_count": 24,
   "outputs": [
    {
     "name": "stdout",
     "output_type": "stream",
     "text": [
      "\n",
      " __________________________________\n",
      "| Idx | SKU | price | sales | taxed |\n",
      " __________________________________\n",
      "|     | <class 'str'> | <class 'float'> | <class 'int'> | <class 'bool'> |\n",
      " __________________________________\n",
      "|  0  |   X4E   |   7.0   |   5   |   False   |\n",
      " __________________________________\n",
      "|  1  |   T3B   |   3.5   |   3   |   False   |\n",
      " __________________________________\n",
      "|  2  |   F8D   |   8.0   |   1   |   True   |\n",
      " __________________________________\n",
      "|  3  |   C7X   |   6.0   |   10   |   False   |\n",
      " __________________________________\n",
      "\n"
     ]
    }
   ],
   "source": [
    "df = QFrame(data=dict_s)\n",
    "print(df)"
   ],
   "metadata": {
    "collapsed": false,
    "ExecuteTime": {
     "end_time": "2023-12-30T12:00:45.600606500Z",
     "start_time": "2023-12-30T12:00:45.538178Z"
    }
   }
  },
  {
   "cell_type": "code",
   "execution_count": 28,
   "outputs": [],
   "source": [
    "df_clean= QFrame(\n",
    "    data=dict_s,\n",
    "    index=idx,\n",
    "    columns=list(dict_s.keys())\n",
    ")\n",
    "\n",
    "assert df.index==df_clean.index\n",
    "assert df.columns==df_clean.columns\n",
    "assert df.data==df_clean.data"
   ],
   "metadata": {
    "collapsed": false,
    "ExecuteTime": {
     "end_time": "2023-12-30T12:02:34.876316500Z",
     "start_time": "2023-12-30T12:02:34.876316500Z"
    }
   }
  },
  {
   "cell_type": "markdown",
   "source": [
    "Requested test query"
   ],
   "metadata": {
    "collapsed": false
   }
  },
  {
   "cell_type": "code",
   "execution_count": 30,
   "outputs": [
    {
     "name": "stdout",
     "output_type": "stream",
     "text": [
      "\"SKU[price + <class 'float'> > <class 'float'> & sales > <class 'int'> & not taxed]\"\n",
      "__________________\n",
      "|  0   |  X4E  |\n",
      "__________________\n",
      "|  3   |  C7X  |\n",
      "__________________\n",
      "dtype: <class 'str'>\n"
     ]
    }
   ],
   "source": [
    "query_ser= df[\n",
    "    (df[\"price\"] + 5.0 > 10.0) & (df[\"sales\"] > 3) & ~df[\"taxed\"]\n",
    "][\"SKU\"]\n",
    "print(query_ser)"
   ],
   "metadata": {
    "collapsed": false,
    "ExecuteTime": {
     "end_time": "2023-12-30T12:03:29.272243800Z",
     "start_time": "2023-12-30T12:03:29.216082900Z"
    }
   }
  }
 ],
 "metadata": {
  "kernelspec": {
   "display_name": "Python 3",
   "language": "python",
   "name": "python3"
  },
  "language_info": {
   "codemirror_mode": {
    "name": "ipython",
    "version": 2
   },
   "file_extension": ".py",
   "mimetype": "text/x-python",
   "name": "python",
   "nbconvert_exporter": "python",
   "pygments_lexer": "ipython2",
   "version": "2.7.6"
  }
 },
 "nbformat": 4,
 "nbformat_minor": 0
}
